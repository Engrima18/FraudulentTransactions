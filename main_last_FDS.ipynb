{
 "cells": [
  {
   "cell_type": "markdown",
   "metadata": {},
   "source": [
    " GROUP COMPONENTS:\n",
    "- Tito Tamburini\n",
    "- Angelo Mandara\n",
    "- Enrico Grimaldi\n",
    "- Claudiu Gabriel Gheorghiu\n",
    "- Giuseppe Di Poce\n"
   ]
  },
  {
   "attachments": {},
   "cell_type": "markdown",
   "metadata": {},
   "source": [
    "# Fraudulent Transactions Detection"
   ]
  },
  {
   "cell_type": "markdown",
   "metadata": {},
   "source": [
    "### Context\n",
    "We are going to develop a model for predicting fraudulent transactions for a financial company and use insights from the model to develop an actionable plan."
   ]
  },
  {
   "cell_type": "markdown",
   "metadata": {},
   "source": [
    "### Content\n",
    "\n",
    "Data Dictionary:\n",
    "\n",
    "**step** - maps a unit of time in the real world. In this case 1 step is 1 hour of time. Total steps 744 (30 days simulation).\n",
    "\n",
    "**type** - CASH-IN, CASH-OUT, DEBIT, PAYMENT and TRANSFER.\n",
    "\n",
    "**amount** - amount of the transaction in local currency.\n",
    "\n",
    "**nameOrig** - customer who started the transaction\n",
    "\n",
    "**oldbalanceOrg** - initial balance before the transaction\n",
    "\n",
    "**newbalanceOrig** - new balance after the transaction\n",
    "\n",
    "**nameDest** - customer who is the recipient of the transaction\n",
    "\n",
    "**oldbalanceDest** - initial balance recipient before the transaction. Note that there is not information for customers that start with M (Merchants).\n",
    "\n",
    "**newbalanceDest** - new balance recipient after the transaction. Note that there is not information for customers that start with M (Merchants).\n",
    "\n",
    "**isFraud** - This is the transactions made by the fraudulent agents inside the simulation. In this specific dataset the fraudulent behavior of the agents aims to profit by taking control or customers accounts and try to empty the funds by transferring to another account and then cashing out of the system.\n",
    "\n",
    "**isFlaggedFraud** - The business model aims to control massive transfers from one account to another and flags illegal attempts. An illegal attempt in this dataset is an attempt to transfer more than 200.000 in a single transaction."
   ]
  },
  {
   "attachments": {},
   "cell_type": "markdown",
   "metadata": {},
   "source": [
    "**Exploratory Data Analysis (EDA)** "
   ]
  },
  {
   "cell_type": "code",
   "execution_count": 123,
   "metadata": {},
   "outputs": [],
   "source": [
    "import pandas as pd\n",
    "import numpy as np\n",
    "from numpy import median\n",
    "import seaborn as sns\n",
    "import matplotlib.pyplot as plt\n",
    "from statsmodels.stats.outliers_influence import variance_inflation_factor #multi-collinearity"
   ]
  },
  {
   "cell_type": "code",
   "execution_count": 32,
   "metadata": {},
   "outputs": [],
   "source": [
    "# Reading the csv file\n",
    "data=pd.read_csv('Fraud.csv')"
   ]
  },
  {
   "cell_type": "code",
   "execution_count": 6,
   "metadata": {},
   "outputs": [
    {
     "data": {
      "text/html": [
       "<div>\n",
       "<style scoped>\n",
       "    .dataframe tbody tr th:only-of-type {\n",
       "        vertical-align: middle;\n",
       "    }\n",
       "\n",
       "    .dataframe tbody tr th {\n",
       "        vertical-align: top;\n",
       "    }\n",
       "\n",
       "    .dataframe thead th {\n",
       "        text-align: right;\n",
       "    }\n",
       "</style>\n",
       "<table border=\"1\" class=\"dataframe\">\n",
       "  <thead>\n",
       "    <tr style=\"text-align: right;\">\n",
       "      <th></th>\n",
       "      <th>step</th>\n",
       "      <th>type</th>\n",
       "      <th>amount</th>\n",
       "      <th>nameOrig</th>\n",
       "      <th>oldbalanceOrg</th>\n",
       "      <th>newbalanceOrig</th>\n",
       "      <th>nameDest</th>\n",
       "      <th>oldbalanceDest</th>\n",
       "      <th>newbalanceDest</th>\n",
       "      <th>isFraud</th>\n",
       "      <th>isFlaggedFraud</th>\n",
       "    </tr>\n",
       "  </thead>\n",
       "  <tbody>\n",
       "    <tr>\n",
       "      <th>0</th>\n",
       "      <td>1</td>\n",
       "      <td>PAYMENT</td>\n",
       "      <td>9839.64</td>\n",
       "      <td>C1231006815</td>\n",
       "      <td>170136.0</td>\n",
       "      <td>160296.36</td>\n",
       "      <td>M1979787155</td>\n",
       "      <td>0.0</td>\n",
       "      <td>0.0</td>\n",
       "      <td>0</td>\n",
       "      <td>0</td>\n",
       "    </tr>\n",
       "    <tr>\n",
       "      <th>1</th>\n",
       "      <td>1</td>\n",
       "      <td>PAYMENT</td>\n",
       "      <td>1864.28</td>\n",
       "      <td>C1666544295</td>\n",
       "      <td>21249.0</td>\n",
       "      <td>19384.72</td>\n",
       "      <td>M2044282225</td>\n",
       "      <td>0.0</td>\n",
       "      <td>0.0</td>\n",
       "      <td>0</td>\n",
       "      <td>0</td>\n",
       "    </tr>\n",
       "    <tr>\n",
       "      <th>2</th>\n",
       "      <td>1</td>\n",
       "      <td>TRANSFER</td>\n",
       "      <td>181.00</td>\n",
       "      <td>C1305486145</td>\n",
       "      <td>181.0</td>\n",
       "      <td>0.00</td>\n",
       "      <td>C553264065</td>\n",
       "      <td>0.0</td>\n",
       "      <td>0.0</td>\n",
       "      <td>1</td>\n",
       "      <td>0</td>\n",
       "    </tr>\n",
       "  </tbody>\n",
       "</table>\n",
       "</div>"
      ],
      "text/plain": [
       "   step      type   amount     nameOrig  oldbalanceOrg  newbalanceOrig  \\\n",
       "0     1   PAYMENT  9839.64  C1231006815       170136.0       160296.36   \n",
       "1     1   PAYMENT  1864.28  C1666544295        21249.0        19384.72   \n",
       "2     1  TRANSFER   181.00  C1305486145          181.0            0.00   \n",
       "\n",
       "      nameDest  oldbalanceDest  newbalanceDest  isFraud  isFlaggedFraud  \n",
       "0  M1979787155             0.0             0.0        0               0  \n",
       "1  M2044282225             0.0             0.0        0               0  \n",
       "2   C553264065             0.0             0.0        1               0  "
      ]
     },
     "execution_count": 6,
     "metadata": {},
     "output_type": "execute_result"
    }
   ],
   "source": [
    "#Let's take a look to the data\n",
    "data.head(3)"
   ]
  },
  {
   "cell_type": "code",
   "execution_count": 15,
   "metadata": {},
   "outputs": [
    {
     "name": "stdout",
     "output_type": "stream",
     "text": [
      "<class 'pandas.core.frame.DataFrame'>\n",
      "RangeIndex: 6362620 entries, 0 to 6362619\n",
      "Data columns (total 11 columns):\n",
      " #   Column          Dtype  \n",
      "---  ------          -----  \n",
      " 0   step            int64  \n",
      " 1   type            object \n",
      " 2   amount          float64\n",
      " 3   nameOrig        object \n",
      " 4   oldbalanceOrg   float64\n",
      " 5   newbalanceOrig  float64\n",
      " 6   nameDest        object \n",
      " 7   oldbalanceDest  float64\n",
      " 8   newbalanceDest  float64\n",
      " 9   isFraud         int64  \n",
      " 10  isFlaggedFraud  int64  \n",
      "dtypes: float64(5), int64(3), object(3)\n",
      "memory usage: 534.0+ MB\n"
     ]
    }
   ],
   "source": [
    "data.info()"
   ]
  },
  {
   "cell_type": "markdown",
   "metadata": {},
   "source": [
    "There are 3 categorical variables (nameOrig, type and nameDest), we will decide how to treat them."
   ]
  },
  {
   "cell_type": "code",
   "execution_count": 10,
   "metadata": {},
   "outputs": [
    {
     "data": {
      "text/plain": [
       "step              0\n",
       "type              0\n",
       "amount            0\n",
       "nameOrig          0\n",
       "oldbalanceOrg     0\n",
       "newbalanceOrig    0\n",
       "nameDest          0\n",
       "oldbalanceDest    0\n",
       "newbalanceDest    0\n",
       "isFraud           0\n",
       "isFlaggedFraud    0\n",
       "dtype: int64"
      ]
     },
     "execution_count": 10,
     "metadata": {},
     "output_type": "execute_result"
    }
   ],
   "source": [
    "data.isnull().sum()"
   ]
  },
  {
   "cell_type": "markdown",
   "metadata": {},
   "source": [
    "There are no missing values in our dataset but we must remember that, as already said before, \"oldbalanceDest\" and \"newbalanceDest\" have not information for customers that start with M (Merchants)."
   ]
  },
  {
   "cell_type": "code",
   "execution_count": 13,
   "metadata": {},
   "outputs": [
    {
     "data": {
      "image/png": "[encoded data removed]",
      "text/plain": [
       "<Figure size 1440x576 with 2 Axes>"
      ]
     },
     "metadata": {
      "needs_background": "light"
     },
     "output_type": "display_data"
    },
    {
     "data": {
      "text/plain": [
       "'\\nplt.figure(figsize=(20, 8))\\n\\none = plt.subplot(1, 2, 1)\\none.set_title(\"Boxplot for  amount of transactions with outliers\", \\n             {\"fontsize\":18})\\ndata[\\'isFraud\\'].plot(kind=\\'box\\',vert=False)\\n\\ntwo = plt.subplot(1, 2, 2)\\ntwo.set_title(\"Boxplot for  amount of transactions without outliers\", \\n             {\"fontsize\":18})\\ndata[\\'isFraud\\'].plot.box(showfliers=False,vert=False)\\nplt.show()\\n'"
      ]
     },
     "execution_count": 13,
     "metadata": {},
     "output_type": "execute_result"
    }
   ],
   "source": [
    "plt.figure(figsize=(20, 8))\n",
    "\n",
    "one = plt.subplot(1, 2, 1)\n",
    "one.set_title(\"Boxplot for  amount of transactions without outliers\", \n",
    "             {\"fontsize\":18})\n",
    "sns.boxplot(x=data[\"amount\"],showfliers = False)\n",
    "\n",
    "two = plt.subplot(1, 2, 2)\n",
    "two.set_title(\"Boxplot for true amount of transactions (with outliers)\", \n",
    "             {\"fontsize\":18})\n",
    "sns.boxplot(x=data[\"amount\"],showfliers = True)\n",
    "\n",
    "plt.show()"
   ]
  },
  {
   "attachments": {},
   "cell_type": "markdown",
   "metadata": {},
   "source": [
    "Observing on the right the \"true\" **amount** is heavy the presence of outliers: the box is flat. Visually the imagine on the left tells us expicitely the distibution it's strongly asymmetric (mean > median). The most (75%) of transactions are under 208'722$, on average 179'862$, 50% < 74'872$.\n",
    "In the next cell the statistics. "
   ]
  },
  {
   "cell_type": "code",
   "execution_count": 29,
   "metadata": {},
   "outputs": [
    {
     "name": "stdout",
     "output_type": "stream",
     "text": [
      "|       |           amount |\n",
      "|:------|-----------------:|\n",
      "| count |      6.36262e+06 |\n",
      "| mean  | 179862           |\n",
      "| std   | 603858           |\n",
      "| min   |      0           |\n",
      "| 25%   |  13389.6         |\n",
      "| 50%   |  74871.9         |\n",
      "| 75%   | 208721           |\n",
      "| max   |      9.24455e+07 |\n",
      "Median : 74871.94\n"
     ]
    }
   ],
   "source": [
    "print(data.amount.describe().to_markdown())\n",
    "print(\"Median : \" + str(median(data.amount)))"
   ]
  },
  {
   "attachments": {},
   "cell_type": "markdown",
   "metadata": {},
   "source": [
    "Let's take a look at the number of fraud and legit transaction. Then more strictly which types are the \"dangerous\"."
   ]
  },
  {
   "cell_type": "code",
   "execution_count": 80,
   "metadata": {},
   "outputs": [
    {
     "name": "stdout",
     "output_type": "stream",
     "text": [
      "In absolute : \n",
      "0    6354407\n",
      "1       8213\n",
      "Name: isFraud, dtype: int64\n",
      "In proportion : \n",
      "0    0.998709\n",
      "1    0.001291\n",
      "Name: isFraud, dtype: float64\n"
     ]
    }
   ],
   "source": [
    "print(\"In absolute : \\n\" + str(data.isFraud.value_counts()))\n",
    "print(\"In proportion : \\n\" + str(data.isFraud.value_counts(1)))"
   ]
  },
  {
   "cell_type": "code",
   "execution_count": 91,
   "metadata": {},
   "outputs": [
    {
     "name": "stderr",
     "output_type": "stream",
     "text": [
      "c:\\Users\\claas\\Anaconda3\\lib\\site-packages\\seaborn\\_decorators.py:36: FutureWarning: Pass the following variable as a keyword arg: x. From version 0.12, the only valid positional argument will be `data`, and passing other arguments without an explicit keyword will result in an error or misinterpretation.\n",
      "  warnings.warn(\n",
      "c:\\Users\\claas\\Anaconda3\\lib\\site-packages\\seaborn\\_decorators.py:36: FutureWarning: Pass the following variable as a keyword arg: x. From version 0.12, the only valid positional argument will be `data`, and passing other arguments without an explicit keyword will result in an error or misinterpretation.\n",
      "  warnings.warn(\n"
     ]
    },
    {
     "data": {
      "image/png": "[encoded data removed]",
      "text/plain": [
       "<Figure size 1440x576 with 2 Axes>"
      ]
     },
     "metadata": {
      "needs_background": "light"
     },
     "output_type": "display_data"
    }
   ],
   "source": [
    "# dataset divided by isFraud\n",
    "F=data[data.isFraud==1]\n",
    "NF=data[data.isFraud==0]\n",
    "\n",
    "\n",
    "plt.figure(figsize=(20, 8))\n",
    "\n",
    "one = plt.subplot(1, 2, 1)\n",
    "one.set_title(\"Countplot for number of fraud transactions\", \n",
    "             {\"fontsize\":18})\n",
    "sns.countplot(F.type, palette='mako')\n",
    "\n",
    "two = plt.subplot(1, 2, 2)\n",
    "two.set_title(\"Countplot for number of legit transactions\", \n",
    "             {\"fontsize\":18})\n",
    "sns.countplot(NF.type, palette='mako')\n",
    "\n",
    "plt.show()"
   ]
  },
  {
   "cell_type": "code",
   "execution_count": 93,
   "metadata": {},
   "outputs": [
    {
     "name": "stdout",
     "output_type": "stream",
     "text": [
      "Number of not fraud transaction per type : \n",
      " CASH_OUT    2233384\n",
      "PAYMENT     2151495\n",
      "CASH_IN     1399284\n",
      "TRANSFER     528812\n",
      "DEBIT         41432\n",
      "Name: type, dtype: int64\n",
      "\n",
      "Number of fraud transaction per type : \n",
      " CASH_OUT    4116\n",
      "TRANSFER    4097\n",
      "Name: type, dtype: int64\n"
     ]
    }
   ],
   "source": [
    "print(\"Number of not fraud transaction per type : \\n \" + str(NF.type.value_counts()) + \"\\n\")\n",
    "print(\"Number of fraud transaction per type : \\n \" + str(F.type.value_counts()))"
   ]
  },
  {
   "attachments": {},
   "cell_type": "markdown",
   "metadata": {},
   "source": [
    "The number of fraud movements is 8213, the 0.1% of the total. They are divided between the types \"CASH_OUT\" and \"TRANSER\" and equidistribuited respect to the amount."
   ]
  },
  {
   "cell_type": "code",
   "execution_count": 120,
   "metadata": {},
   "outputs": [
    {
     "data": {
      "image/png": "[encoded data removed]",
      "text/plain": [
       "<Figure size 1440x576 with 1 Axes>"
      ]
     },
     "metadata": {
      "needs_background": "light"
     },
     "output_type": "display_data"
    }
   ],
   "source": [
    "plt.figure(figsize=(20, 8))\n",
    "plt.plot(F.amount,F.isFraud, color='green', marker='o', linestyle='dashed', linewidth=2, markersize=12)\n",
    "plt.title(\"Distribution of fraud transaction at the grouth od the amount\", fontdict=None, loc='center')\n",
    "plt.xlabel(\"Amount\")\n",
    "plt.show()"
   ]
  },
  {
   "cell_type": "code",
   "execution_count": 13,
   "metadata": {},
   "outputs": [
    {
     "name": "stdout",
     "output_type": "stream",
     "text": [
      "Total Unique Values in nameOrig 6353307\n"
     ]
    }
   ],
   "source": [
    "print(\"Total Unique Values in nameOrig\", data['nameOrig'].nunique())"
   ]
  },
  {
   "cell_type": "code",
   "execution_count": 18,
   "metadata": {},
   "outputs": [
    {
     "name": "stdout",
     "output_type": "stream",
     "text": [
      "Total Unique Values in nameDest 2722362\n"
     ]
    }
   ],
   "source": [
    "print(\"Total Unique Values in nameDest\", data['nameDest'].nunique())"
   ]
  },
  {
   "cell_type": "code",
   "execution_count": null,
   "metadata": {},
   "outputs": [],
   "source": []
  },
  {
   "cell_type": "code",
   "execution_count": null,
   "metadata": {},
   "outputs": [],
   "source": []
  },
  {
   "cell_type": "code",
   "execution_count": null,
   "metadata": {},
   "outputs": [],
   "source": []
  },
  {
   "attachments": {},
   "cell_type": "markdown",
   "metadata": {},
   "source": [
    "Let's take an important step to get the basis to our model: how do the variables behave respect to each other?"
   ]
  },
  {
   "attachments": {},
   "cell_type": "markdown",
   "metadata": {},
   "source": [
    "### Correlation"
   ]
  },
  {
   "cell_type": "code",
   "execution_count": 39,
   "metadata": {},
   "outputs": [
    {
     "data": {
      "image/png": "[encoded data removed]",
      "text/plain": [
       "<Figure size 720x432 with 2 Axes>"
      ]
     },
     "metadata": {
      "needs_background": "light"
     },
     "output_type": "display_data"
    }
   ],
   "source": [
    "plt.figure(figsize=(10,6))\n",
    "sns.heatmap(data.corr(), cmap='mako', linewidth=0.2, annot=True)\n",
    "plt.show()"
   ]
  },
  {
   "attachments": {},
   "cell_type": "markdown",
   "metadata": {},
   "source": [
    "### Multi-Collinearity"
   ]
  },
  {
   "cell_type": "code",
   "execution_count": 124,
   "metadata": {},
   "outputs": [
    {
     "name": "stdout",
     "output_type": "stream",
     "text": [
      "|    | feature        |       VIF |\n",
      "|---:|:---------------|----------:|\n",
      "|  0 | step           |   1.19109 |\n",
      "|  1 | amount         |   4.07895 |\n",
      "|  2 | oldbalanceOrg  | 544.053   |\n",
      "|  3 | newbalanceOrig | 546.346   |\n",
      "|  4 | oldbalanceDest |  72.8955  |\n",
      "|  5 | newbalanceDest |  84.5846  |\n",
      "|  6 | isFraud        |   1.18839 |\n",
      "|  7 | isFlaggedFraud |   1.00255 |\n"
     ]
    }
   ],
   "source": [
    "data_without_text=pd.DataFrame({\"step\":data.step,\n",
    "                                \"amount\":data.amount,\n",
    "                               \"oldbalanceOrg\":data.oldbalanceOrg,\n",
    "                               \"newbalanceOrig\":data.newbalanceOrig,\n",
    "                               \"oldbalanceDest\":data.oldbalanceDest,\n",
    "                               \"newbalanceDest\":data.newbalanceDest,\n",
    "                               \"isFraud\":data.isFraud,\n",
    "                               \"isFlaggedFraud\":data.isFlaggedFraud})\n",
    "vif_data = pd.DataFrame()\n",
    "vif_data[\"feature\"] = data_without_text.columns\n",
    "  \n",
    "vif_data[\"VIF\"] = [variance_inflation_factor(data_without_text.values, i)\n",
    "                          for i in range(len(data_without_text.columns))]\n",
    "  \n",
    "print(vif_data.to_markdown())"
   ]
  },
  {
   "cell_type": "code",
   "execution_count": null,
   "metadata": {},
   "outputs": [],
   "source": []
  }
 ],
 "metadata": {
  "kernelspec": {
   "display_name": "Python 3.9.12 ('base': conda)",
   "language": "python",
   "name": "python3"
  },
  "language_info": {
   "codemirror_mode": {
    "name": "ipython",
    "version": 3
   },
   "file_extension": ".py",
   "mimetype": "text/x-python",
   "name": "python",
   "nbconvert_exporter": "python",
   "pygments_lexer": "ipython3",
   "version": "3.9.12"
  },
  "orig_nbformat": 4,
  "vscode": {
   "interpreter": {
    "hash": "55d137ae504eb3a2ce0b42b7ab009869de3eac806037a3ab4dc09c87d45e3a30"
   }
  }
 },
 "nbformat": 4,
 "nbformat_minor": 2
}
